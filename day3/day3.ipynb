{
 "cells": [
  {
   "cell_type": "code",
   "execution_count": 12,
   "metadata": {},
   "outputs": [
    {
     "name": "stdout",
     "output_type": "stream",
     "text": [
      "8515\n"
     ]
    }
   ],
   "source": [
    "import collections\n",
    "ret = 0\n",
    "with open(\"input.txt\") as f:\n",
    "    for line in f:\n",
    "        line = line.strip()\n",
    "        first = line[:int(len(line)/2)]\n",
    "        second = line[int(len(line)/2):]\n",
    "        \n",
    "        first_count = collections.Counter(first)\n",
    "        second_count = collections.Counter(second)\n",
    "        sum_count = first_count + second_count\n",
    "        for key in sum_count:\n",
    "            if (sum_count[key] > first_count[key]) and (sum_count[key] > second_count[key]):\n",
    "                priority = ord(key)\n",
    "                if (priority > 90):\n",
    "                    priority -= 96\n",
    "                else:\n",
    "                    priority -= 38\n",
    "                # ASCII\n",
    "                # A - 65\n",
    "                # Z = 90\n",
    "                # a = 97\n",
    "                # z = 122\n",
    "                ret += priority\n",
    "                #print(\"{}: {}\".format(key, priority))\n",
    "print(ret)"
   ]
  },
  {
   "cell_type": "code",
   "execution_count": 16,
   "metadata": {},
   "outputs": [
    {
     "name": "stdout",
     "output_type": "stream",
     "text": [
      "2434\n"
     ]
    }
   ],
   "source": [
    "import collections\n",
    "ret = 0\n",
    "counter = 0\n",
    "sacks = [None] * 3\n",
    "counts = [None] * 3\n",
    "sum_count = collections.Counter()\n",
    "\n",
    "with open(\"input.txt\") as f:\n",
    "    for line in f:\n",
    "        line = line.strip()\n",
    "        sacks[counter] = line\n",
    "        \n",
    "        if (counter == 2):\n",
    "            counter = 0\n",
    "            for idx, sack in enumerate(sacks):\n",
    "                counts[idx] = collections.Counter(sack)\n",
    "                sum_count += counts[idx]\n",
    "            for key in sum_count:\n",
    "                if (counts[0][key] > 0 and counts[1][key] > 0 and counts[2][key] > 0):\n",
    "                    priority = ord(key)\n",
    "                    if (priority > 90):\n",
    "                        priority -= 96\n",
    "                    else:\n",
    "                        priority -= 38\n",
    "                # ASCII\n",
    "                # A - 65\n",
    "                # Z = 90\n",
    "                # a = 97\n",
    "                # z = 122\n",
    "                    ret += priority\n",
    "                    #print(\"{}: {}\".format(key, priority))\n",
    "        else:\n",
    "            counter += 1\n",
    "                \n",
    "print(ret)"
   ]
  }
 ],
 "metadata": {
  "kernelspec": {
   "display_name": "Python 3.10.8 ('default')",
   "language": "python",
   "name": "python3"
  },
  "language_info": {
   "codemirror_mode": {
    "name": "ipython",
    "version": 3
   },
   "file_extension": ".py",
   "mimetype": "text/x-python",
   "name": "python",
   "nbconvert_exporter": "python",
   "pygments_lexer": "ipython3",
   "version": "3.10.8"
  },
  "orig_nbformat": 4,
  "vscode": {
   "interpreter": {
    "hash": "16b7463d628033012acdfef5c53870f65b25d8c776852dca738475a40a6a62f6"
   }
  }
 },
 "nbformat": 4,
 "nbformat_minor": 2
}
