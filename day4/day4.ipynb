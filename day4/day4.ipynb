{
 "cells": [
  {
   "cell_type": "code",
   "execution_count": 37,
   "metadata": {},
   "outputs": [
    {
     "name": "stdout",
     "output_type": "stream",
     "text": [
      "450\n"
     ]
    }
   ],
   "source": [
    "def contained(first, second, third, fourth):\n",
    "    return (first >= third and second <= fourth) or (third >= first and fourth <= second)\n",
    "\n",
    "ret = 0\n",
    "with open(\"input.txt\") as f:\n",
    "    for line in f:\n",
    "        dash_one = line.index(\"-\")\n",
    "        comma = line.index(\",\")\n",
    "        dash_two = line.index(\"-\", comma)\n",
    "        \n",
    "        first = int(line[:dash_one])\n",
    "        second = int(line[dash_one+1:comma])\n",
    "        third = int(line[comma+1:dash_two])\n",
    "        fourth = int(line[dash_two+1:])\n",
    "\n",
    "        if contained(first, second, third, fourth):\n",
    "            ret += 1\n",
    "print(ret)"
   ]
  },
  {
   "cell_type": "code",
   "execution_count": 36,
   "metadata": {},
   "outputs": [
    {
     "name": "stdout",
     "output_type": "stream",
     "text": [
      "837\n"
     ]
    }
   ],
   "source": [
    "def contained(first, second, third, fourth):\n",
    "    return (first >= third and second <= fourth) or (third >= first and fourth <= second)\n",
    "\n",
    "ret = 0\n",
    "with open(\"input.txt\") as f:\n",
    "    for line in f:\n",
    "        dash_one = line.index(\"-\")\n",
    "        comma = line.index(\",\")\n",
    "        dash_two = line.index(\"-\", comma)\n",
    "\n",
    "        first = int(line[:dash_one])\n",
    "        second = int(line[dash_one+1:comma])\n",
    "        third = int(line[comma+1:dash_two])\n",
    "        fourth = int(line[dash_two+1:])\n",
    "\n",
    "        if (second >= third and second <= fourth) or (first >= third and first <= fourth) or contained(first, second, third, fourth):\n",
    "            ret += 1\n",
    "print(ret)"
   ]
  }
 ],
 "metadata": {
  "kernelspec": {
   "display_name": "Python 3.10.8 ('default')",
   "language": "python",
   "name": "python3"
  },
  "language_info": {
   "codemirror_mode": {
    "name": "ipython",
    "version": 3
   },
   "file_extension": ".py",
   "mimetype": "text/x-python",
   "name": "python",
   "nbconvert_exporter": "python",
   "pygments_lexer": "ipython3",
   "version": "3.10.8"
  },
  "orig_nbformat": 4,
  "vscode": {
   "interpreter": {
    "hash": "16b7463d628033012acdfef5c53870f65b25d8c776852dca738475a40a6a62f6"
   }
  }
 },
 "nbformat": 4,
 "nbformat_minor": 2
}
