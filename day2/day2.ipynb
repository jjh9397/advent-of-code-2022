{
 "cells": [
  {
   "cell_type": "code",
   "execution_count": 5,
   "metadata": {},
   "outputs": [
    {
     "name": "stdout",
     "output_type": "stream",
     "text": [
      "13726\n"
     ]
    }
   ],
   "source": [
    "opponent = \"\"\n",
    "player = \"\"\n",
    "score = 0\n",
    "with open(\"input.txt\") as f:\n",
    "    for line in f:\n",
    "        opponent = line[0]\n",
    "        player = line[2]\n",
    "        if (opponent == \"A\"):\n",
    "            if (player == \"X\"):\n",
    "                score += 0 + 3 # scissor\n",
    "            elif (player == \"Y\"):\n",
    "                score += 3 + 1 # rock\n",
    "            else:                   \n",
    "                score += 6 + 2 # paper\n",
    "        elif (opponent == \"B\"):\n",
    "            if (player == \"X\"):\n",
    "                score += 0 + 1 # rock\n",
    "            elif (player == \"Y\"):\n",
    "                score += 3 + 2 # paper\n",
    "            else:\n",
    "                score += 6 + 3 # scissor\n",
    "        else:\n",
    "            if (player == \"X\"):\n",
    "                score += 0 + 2 # paper\n",
    "            elif (player == \"Y\"):\n",
    "                score += 3 + 3 # scissor\n",
    "            else:\n",
    "                score += 6 + 1 # rock\n",
    "\n",
    "print(score)"
   ]
  }
 ],
 "metadata": {
  "kernelspec": {
   "display_name": "Python 3.10.8 ('default')",
   "language": "python",
   "name": "python3"
  },
  "language_info": {
   "codemirror_mode": {
    "name": "ipython",
    "version": 3
   },
   "file_extension": ".py",
   "mimetype": "text/x-python",
   "name": "python",
   "nbconvert_exporter": "python",
   "pygments_lexer": "ipython3",
   "version": "3.10.8"
  },
  "orig_nbformat": 4,
  "vscode": {
   "interpreter": {
    "hash": "16b7463d628033012acdfef5c53870f65b25d8c776852dca738475a40a6a62f6"
   }
  }
 },
 "nbformat": 4,
 "nbformat_minor": 2
}
