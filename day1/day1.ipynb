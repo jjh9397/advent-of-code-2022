{
 "cells": [
  {
   "cell_type": "code",
   "execution_count": 9,
   "metadata": {},
   "outputs": [
    {
     "name": "stdout",
     "output_type": "stream",
     "text": [
      "[66796, 68012, 72602]\n",
      "207410\n"
     ]
    }
   ],
   "source": [
    "input = open(\"input.txt\", \"r\")\n",
    "line = input.readline()\n",
    "sums = []\n",
    "curr = 0\n",
    "\n",
    "with open(\"input.txt\") as f:\n",
    "    for line in f:\n",
    "        if (line != \"\\n\"):\n",
    "            curr += int(line.strip())\n",
    "        else:\n",
    "            sums.append(curr)\n",
    "            curr = 0\n",
    "sums.sort()\n",
    "print(sums[-3:])\n",
    "print(sums[-1] + sums[-2] + sums[-3])"
   ]
  }
 ],
 "metadata": {
  "kernelspec": {
   "display_name": "Python 3.10.8 ('default')",
   "language": "python",
   "name": "python3"
  },
  "language_info": {
   "codemirror_mode": {
    "name": "ipython",
    "version": 3
   },
   "file_extension": ".py",
   "mimetype": "text/x-python",
   "name": "python",
   "nbconvert_exporter": "python",
   "pygments_lexer": "ipython3",
   "version": "3.10.8"
  },
  "orig_nbformat": 4,
  "vscode": {
   "interpreter": {
    "hash": "16b7463d628033012acdfef5c53870f65b25d8c776852dca738475a40a6a62f6"
   }
  }
 },
 "nbformat": 4,
 "nbformat_minor": 2
}
